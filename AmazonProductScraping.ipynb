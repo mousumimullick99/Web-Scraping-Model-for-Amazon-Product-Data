{
  "nbformat": 4,
  "nbformat_minor": 0,
  "metadata": {
    "colab": {
      "provenance": []
    },
    "kernelspec": {
      "name": "python3",
      "display_name": "Python 3"
    },
    "language_info": {
      "name": "python"
    }
  },
  "cells": [
    {
      "cell_type": "code",
      "source": [
        "from bs4 import BeautifulSoup\n",
        "import requests\n",
        "import pandas as pd\n",
        "import numpy as np"
      ],
      "metadata": {
        "id": "YTZcxu-KaWQJ"
      },
      "execution_count": 52,
      "outputs": []
    },
    {
      "cell_type": "code",
      "source": [
        "URL = 'https://www.amazon.com/s?k=playstation+5&crid=3BV45YDFQQE2G&sprefix=playstation+4%2Caps%2C269&ref=nb_sb_noss_2'"
      ],
      "metadata": {
        "id": "i3cJYKmcaWGe"
      },
      "execution_count": 21,
      "outputs": []
    },
    {
      "cell_type": "code",
      "source": [
        "HEADERS = ({'User-Agent':'Mozilla/5.0 (Windows NT 10.0; Win64; x64) AppleWebKit/537.36 (KHTML, like Gecko) Chrome/124.0.0.0 Safari/537.36', 'Accept-Language':'en-US,en;q=0.5'})"
      ],
      "metadata": {
        "id": "w1r2Nevs0Df6"
      },
      "execution_count": 22,
      "outputs": []
    },
    {
      "cell_type": "code",
      "source": [
        "webpage = requests.get(URL, headers=HEADERS)"
      ],
      "metadata": {
        "id": "7aGDifl50ok_"
      },
      "execution_count": 23,
      "outputs": []
    },
    {
      "cell_type": "code",
      "source": [
        "type(webpage.content)"
      ],
      "metadata": {
        "colab": {
          "base_uri": "https://localhost:8080/"
        },
        "id": "dvfMj0ay1SPC",
        "outputId": "892e651e-1067-47d0-d8bf-bd827a7fe43d"
      },
      "execution_count": 24,
      "outputs": [
        {
          "output_type": "execute_result",
          "data": {
            "text/plain": [
              "bytes"
            ]
          },
          "metadata": {},
          "execution_count": 24
        }
      ]
    },
    {
      "cell_type": "code",
      "source": [
        "soup = BeautifulSoup(webpage.content, 'html.parser')"
      ],
      "metadata": {
        "id": "fqpypQKC1TLI"
      },
      "execution_count": 25,
      "outputs": []
    },
    {
      "cell_type": "code",
      "source": [
        "links = soup.find_all('a', attrs={'class':'a-link-normal s-underline-text s-underline-link-text s-link-style a-text-normal'})"
      ],
      "metadata": {
        "id": "x-q9syWs1l0Y"
      },
      "execution_count": 26,
      "outputs": []
    },
    {
      "cell_type": "code",
      "source": [
        "links[0]"
      ],
      "metadata": {
        "colab": {
          "base_uri": "https://localhost:8080/"
        },
        "id": "oOu_dCTv1-E3",
        "outputId": "f9f34ac4-646f-40fe-fb42-c9d39108f12f"
      },
      "execution_count": 48,
      "outputs": [
        {
          "output_type": "execute_result",
          "data": {
            "text/plain": [
              "<a class=\"a-link-normal s-underline-text s-underline-link-text s-link-style a-text-normal\" href=\"/PlayStation%C2%AE5-console-slim-PlayStation-5/dp/B0CL61F39H/ref=sr_1_1?crid=3BV45YDFQQE2G&amp;dib=eyJ2IjoiMSJ9.IBzp2a7hJYOBBKGDpX2BCOMq4I8axp2PbKuGczvmrI4LUcaBhliHEKJct11Q19JAQWlsHxm1MKPIVXWfwgMhHhtP4GL7I8MgFcL6_UOdY-Jg_qGT1LInF9pbCtwsqEWqI65TAtP65C5I8yweIsazejyvx-RWl5UNG5KkN1c57JPcCwiq7cAVEuDx7D9IFuZnzBSjPisqJD95cNFD8XJfFhI2XdDwbywYDxoYupiZq7g.2daAn_91revvBQErNmtzIVY_aWIn6FuluuOBQbRzrGU&amp;dib_tag=se&amp;keywords=playstation+5&amp;qid=1715434661&amp;sprefix=playstation+4%2Caps%2C269&amp;sr=8-1\"><span class=\"a-size-medium a-color-base a-text-normal\">PlayStation®5 console (slim)</span> </a>"
            ]
          },
          "metadata": {},
          "execution_count": 48
        }
      ]
    },
    {
      "cell_type": "code",
      "source": [
        "link = links[0].get('href')"
      ],
      "metadata": {
        "id": "HuLc6oPM2BgX"
      },
      "execution_count": 31,
      "outputs": []
    },
    {
      "cell_type": "code",
      "source": [
        "product_link = 'https://www.amazon.com' + link"
      ],
      "metadata": {
        "id": "1YPNhOVh4PrY"
      },
      "execution_count": 32,
      "outputs": []
    },
    {
      "cell_type": "code",
      "source": [
        "product_link"
      ],
      "metadata": {
        "colab": {
          "base_uri": "https://localhost:8080/",
          "height": 140
        },
        "id": "rWvw16Vh4XL5",
        "outputId": "d1bf7e46-af50-4c3d-a675-bf57b46aabd8"
      },
      "execution_count": 33,
      "outputs": [
        {
          "output_type": "execute_result",
          "data": {
            "text/plain": [
              "'https://www.amazon.com/PlayStation%C2%AE5-console-slim-PlayStation-5/dp/B0CL61F39H/ref=sr_1_1?crid=3BV45YDFQQE2G&dib=eyJ2IjoiMSJ9.IBzp2a7hJYOBBKGDpX2BCOMq4I8axp2PbKuGczvmrI4LUcaBhliHEKJct11Q19JAQWlsHxm1MKPIVXWfwgMhHhtP4GL7I8MgFcL6_UOdY-Jg_qGT1LInF9pbCtwsqEWqI65TAtP65C5I8yweIsazejyvx-RWl5UNG5KkN1c57JPcCwiq7cAVEuDx7D9IFuZnzBSjPisqJD95cNFD8XJfFhI2XdDwbywYDxoYupiZq7g.2daAn_91revvBQErNmtzIVY_aWIn6FuluuOBQbRzrGU&dib_tag=se&keywords=playstation+5&qid=1715434661&sprefix=playstation+4%2Caps%2C269&sr=8-1'"
            ],
            "application/vnd.google.colaboratory.intrinsic+json": {
              "type": "string"
            }
          },
          "metadata": {},
          "execution_count": 33
        }
      ]
    },
    {
      "cell_type": "code",
      "source": [
        "new_webpage = requests.get(product_link, headers=HEADERS)"
      ],
      "metadata": {
        "id": "IAtaA4zv4aEp"
      },
      "execution_count": 34,
      "outputs": []
    },
    {
      "cell_type": "code",
      "source": [
        "new_soup = BeautifulSoup(new_webpage.content, 'html.parser')"
      ],
      "metadata": {
        "id": "yHXnya4-4iRA"
      },
      "execution_count": 35,
      "outputs": []
    },
    {
      "cell_type": "code",
      "source": [
        "new_soup.find('span', attrs={'id':'productTitle'}).text.strip()"
      ],
      "metadata": {
        "colab": {
          "base_uri": "https://localhost:8080/",
          "height": 36
        },
        "id": "x_seyJIj4kZR",
        "outputId": "e88b25f1-a413-4a8d-b14d-aaee68a3f835"
      },
      "execution_count": 39,
      "outputs": [
        {
          "output_type": "execute_result",
          "data": {
            "text/plain": [
              "'PlayStation®5 console (slim)'"
            ],
            "application/vnd.google.colaboratory.intrinsic+json": {
              "type": "string"
            }
          },
          "metadata": {},
          "execution_count": 39
        }
      ]
    },
    {
      "cell_type": "code",
      "source": [
        "new_soup.find('span', attrs={'class':'a-price a-text-price a-size-medium apexPriceToPay'}).find(\"span\",attrs={'a-offscreen'}).text"
      ],
      "metadata": {
        "colab": {
          "base_uri": "https://localhost:8080/",
          "height": 36
        },
        "id": "RegjuMieBRKD",
        "outputId": "f2d5aa64-16d6-465a-b90f-0a5b32ed6653"
      },
      "execution_count": 46,
      "outputs": [
        {
          "output_type": "execute_result",
          "data": {
            "text/plain": [
              "'$479.04'"
            ],
            "application/vnd.google.colaboratory.intrinsic+json": {
              "type": "string"
            }
          },
          "metadata": {},
          "execution_count": 46
        }
      ]
    },
    {
      "cell_type": "code",
      "source": [
        "new_soup.find(\"span\", attrs={\"class\":'a-icon-alt'}).text"
      ],
      "metadata": {
        "colab": {
          "base_uri": "https://localhost:8080/",
          "height": 36
        },
        "id": "BhQck_cMCTek",
        "outputId": "2c00ca0a-e539-4217-86df-9eba92f297fa"
      },
      "execution_count": 47,
      "outputs": [
        {
          "output_type": "execute_result",
          "data": {
            "text/plain": [
              "'4.7 out of 5 stars'"
            ],
            "application/vnd.google.colaboratory.intrinsic+json": {
              "type": "string"
            }
          },
          "metadata": {},
          "execution_count": 47
        }
      ]
    },
    {
      "cell_type": "markdown",
      "source": [
        "## Iterating through every product to create the dataframe"
      ],
      "metadata": {
        "id": "awciJ0XTGmVD"
      }
    },
    {
      "cell_type": "code",
      "source": [
        "def get_title(soup):\n",
        "\n",
        "    try:\n",
        "        # Outer Tag Object\n",
        "        title = soup.find(\"span\", attrs={\"id\":'productTitle'})\n",
        "\n",
        "        # Inner NavigatableString Object\n",
        "        title_value = title.text\n",
        "\n",
        "        # Title as a string value\n",
        "        title_string = title_value.strip()\n",
        "\n",
        "    except AttributeError:\n",
        "        title_string = \"\"\n",
        "\n",
        "    return title_string"
      ],
      "metadata": {
        "id": "YUC2Hu4TGO3T"
      },
      "execution_count": 55,
      "outputs": []
    },
    {
      "cell_type": "code",
      "source": [
        "# Function to extract Product Price\n",
        "def get_price(soup):\n",
        "\n",
        "    try:\n",
        "        price = soup.find(\"span\", attrs={'id':'priceblock_ourprice'}).string.strip()\n",
        "\n",
        "    except AttributeError:\n",
        "\n",
        "        try:\n",
        "            # If there is some deal price\n",
        "            price = soup.find(\"span\", attrs={'id':'priceblock_dealprice'}).string.strip()\n",
        "\n",
        "        except:\n",
        "            price = \"\"\n",
        "\n",
        "    return price"
      ],
      "metadata": {
        "id": "GdaPgxW4GUXM"
      },
      "execution_count": 56,
      "outputs": []
    },
    {
      "cell_type": "code",
      "source": [
        "# Function to extract Product Rating\n",
        "def get_rating(soup):\n",
        "\n",
        "    try:\n",
        "        rating = soup.find(\"i\", attrs={'class':'a-icon a-icon-star a-star-4-5'}).string.strip()\n",
        "\n",
        "    except AttributeError:\n",
        "        try:\n",
        "            rating = soup.find(\"span\", attrs={'class':'a-icon-alt'}).string.strip()\n",
        "        except:\n",
        "            rating = \"\"\n",
        "\n",
        "    return rating"
      ],
      "metadata": {
        "id": "C_Tx-J31GVUP"
      },
      "execution_count": 57,
      "outputs": []
    },
    {
      "cell_type": "code",
      "source": [
        "#Function to extract Number of User Reviews\n",
        "def get_review_count(soup):\n",
        "    try:\n",
        "        review_count = soup.find(\"span\", attrs={'id':'acrCustomerReviewText'}).string.strip()\n",
        "\n",
        "    except AttributeError:\n",
        "        review_count = \"\"\n",
        "\n",
        "    return review_count"
      ],
      "metadata": {
        "id": "gwYJsC7YGc7n"
      },
      "execution_count": 58,
      "outputs": []
    },
    {
      "cell_type": "code",
      "source": [
        "# Function to extract Availability Status\n",
        "def get_availability(soup):\n",
        "    try:\n",
        "        available = soup.find(\"div\", attrs={'id':'availability'})\n",
        "        available = available.find(\"span\").string.strip()\n",
        "\n",
        "    except AttributeError:\n",
        "        available = \"Not Available\"\n",
        "\n",
        "    return available"
      ],
      "metadata": {
        "id": "B3YVP2n7DyxB"
      },
      "execution_count": 59,
      "outputs": []
    },
    {
      "cell_type": "code",
      "source": [
        "if __name__ == '__main__':\n",
        "\n",
        "    # add your user agent\n",
        "    HEADERS = ({'User-Agent':'', 'Accept-Language': 'en-US, en;q=0.5'})\n",
        "\n",
        "    # The webpage URL\n",
        "    URL = \"https://www.amazon.com/s?k=playstation+4&ref=nb_sb_noss_2\"\n",
        "\n",
        "    # HTTP Request\n",
        "    webpage = requests.get(URL, headers=HEADERS)\n",
        "\n",
        "    # Soup Object containing all data\n",
        "    soup = BeautifulSoup(webpage.content, \"html.parser\")\n",
        "\n",
        "    # Fetch links as List of Tag Objects\n",
        "    links = soup.find_all(\"a\", attrs={'class':'a-link-normal s-no-outline'})\n",
        "\n",
        "    # Store the links\n",
        "    links_list = []\n",
        "\n",
        "    # Loop for extracting links from Tag Objects\n",
        "    for link in links:\n",
        "            links_list.append(link.get('href'))\n",
        "\n",
        "    d = {\"title\":[], \"price\":[], \"rating\":[], \"reviews\":[],\"availability\":[]}\n",
        "\n",
        "    # Loop for extracting product details from each link\n",
        "    for link in links_list:\n",
        "        new_webpage = requests.get(\"https://www.amazon.com\" + link, headers=HEADERS)\n",
        "\n",
        "        new_soup = BeautifulSoup(new_webpage.content, \"html.parser\")\n",
        "\n",
        "        # Function calls to display all necessary product information\n",
        "        d['title'].append(get_title(new_soup))\n",
        "        d['price'].append(get_price(new_soup))\n",
        "        d['rating'].append(get_rating(new_soup))\n",
        "        d['reviews'].append(get_review_count(new_soup))\n",
        "        d['availability'].append(get_availability(new_soup))\n",
        "\n",
        "\n",
        "    amazon_df = pd.DataFrame.from_dict(d)\n",
        "    amazon_df['title'].replace('', np.nan, inplace=True)\n",
        "    amazon_df = amazon_df.dropna(subset=['title'])\n",
        "    amazon_df.to_csv(\"amazon_data.csv\", header=True, index=False)"
      ],
      "metadata": {
        "id": "LRpdnQ_JFeA2"
      },
      "execution_count": 65,
      "outputs": []
    },
    {
      "cell_type": "code",
      "source": [
        "amazon_df"
      ],
      "metadata": {
        "colab": {
          "base_uri": "https://localhost:8080/",
          "height": 877
        },
        "id": "mVB-gdEcFl2z",
        "outputId": "9d64bbbc-bd84-4789-a5a6-b1b835db4524"
      },
      "execution_count": 66,
      "outputs": [
        {
          "output_type": "execute_result",
          "data": {
            "text/plain": [
              "                                                title price  \\\n",
              "1              Sony Playstation PS4 1TB Black Console         \n",
              "2   PlayStation®4 Console – Call of Duty® Modern W...         \n",
              "3   Playstation SONY 4, 500GB Slim System [CUH-221...         \n",
              "4   Flagship Newest Play Station 4 1TB HDD Only on...         \n",
              "5   PlayStation 4 500GB Console [Old Model][Discon...         \n",
              "6   Sony PlayStation 4 Pro 1TB Console - Black (PS...         \n",
              "7   Playstation Sony 4, 500GB Slim System [CUH-221...         \n",
              "8                PlayStation®5 Digital Edition (slim)         \n",
              "9     PlayStation 4 Slim 500GB Console [Discontinued]         \n",
              "10             PlayStation 4 Console 500 GB (Renewed)         \n",
              "11  PlayStation 4 Slim 1TB Console - Marvel's Spid...         \n",
              "12  Sony PlayStation 4 500GB Console - Uncharted 4...         \n",
              "13  PlayStation 4 Pro 1TB Limited Edition Console ...         \n",
              "14  MOVONE Wireless Controller Dual Vibration Game...         \n",
              "15           Sony PlayStation 4 500GB Console - Black         \n",
              "16  Charger Dock Station for PS4, 1.8 Hrs Fast Cha...         \n",
              "17           PlayStation 2 Slim Console PS2 (Renewed)         \n",
              "\n",
              "                rating         reviews                        availability  \n",
              "1   4.6 out of 5 stars   1,462 ratings                            In Stock  \n",
              "2   4.5 out of 5 stars      62 ratings  Only 4 left in stock - order soon.  \n",
              "3   4.5 out of 5 stars     419 ratings  Only 2 left in stock - order soon.  \n",
              "4   4.5 out of 5 stars     204 ratings                       Not Available  \n",
              "5   4.6 out of 5 stars  13,579 ratings  Only 1 left in stock - order soon.  \n",
              "6   4.5 out of 5 stars   4,051 ratings  Only 1 left in stock - order soon.  \n",
              "7   4.5 out of 5 stars     343 ratings  Only 1 left in stock - order soon.  \n",
              "8   4.7 out of 5 stars   5,027 ratings  Only 8 left in stock - order soon.  \n",
              "9   4.5 out of 5 stars   1,893 ratings                            In Stock  \n",
              "10  5.0 out of 5 stars       3 ratings                       Not Available  \n",
              "11  4.7 out of 5 stars   2,818 ratings  Only 1 left in stock - order soon.  \n",
              "12  5.0 out of 5 stars        1 rating  Only 1 left in stock - order soon.  \n",
              "13  4.5 out of 5 stars     684 ratings  Only 1 left in stock - order soon.  \n",
              "14  4.1 out of 5 stars   1,632 ratings                            In Stock  \n",
              "15  4.5 out of 5 stars   3,199 ratings  Only 6 left in stock - order soon.  \n",
              "16  4.6 out of 5 stars  14,445 ratings                            In Stock  \n",
              "17  3.9 out of 5 stars   1,226 ratings                                      "
            ],
            "text/html": [
              "\n",
              "  <div id=\"df-bdb1ef0a-28d4-4500-947e-3df65ff86b60\" class=\"colab-df-container\">\n",
              "    <div>\n",
              "<style scoped>\n",
              "    .dataframe tbody tr th:only-of-type {\n",
              "        vertical-align: middle;\n",
              "    }\n",
              "\n",
              "    .dataframe tbody tr th {\n",
              "        vertical-align: top;\n",
              "    }\n",
              "\n",
              "    .dataframe thead th {\n",
              "        text-align: right;\n",
              "    }\n",
              "</style>\n",
              "<table border=\"1\" class=\"dataframe\">\n",
              "  <thead>\n",
              "    <tr style=\"text-align: right;\">\n",
              "      <th></th>\n",
              "      <th>title</th>\n",
              "      <th>price</th>\n",
              "      <th>rating</th>\n",
              "      <th>reviews</th>\n",
              "      <th>availability</th>\n",
              "    </tr>\n",
              "  </thead>\n",
              "  <tbody>\n",
              "    <tr>\n",
              "      <th>1</th>\n",
              "      <td>Sony Playstation PS4 1TB Black Console</td>\n",
              "      <td></td>\n",
              "      <td>4.6 out of 5 stars</td>\n",
              "      <td>1,462 ratings</td>\n",
              "      <td>In Stock</td>\n",
              "    </tr>\n",
              "    <tr>\n",
              "      <th>2</th>\n",
              "      <td>PlayStation®4 Console – Call of Duty® Modern W...</td>\n",
              "      <td></td>\n",
              "      <td>4.5 out of 5 stars</td>\n",
              "      <td>62 ratings</td>\n",
              "      <td>Only 4 left in stock - order soon.</td>\n",
              "    </tr>\n",
              "    <tr>\n",
              "      <th>3</th>\n",
              "      <td>Playstation SONY 4, 500GB Slim System [CUH-221...</td>\n",
              "      <td></td>\n",
              "      <td>4.5 out of 5 stars</td>\n",
              "      <td>419 ratings</td>\n",
              "      <td>Only 2 left in stock - order soon.</td>\n",
              "    </tr>\n",
              "    <tr>\n",
              "      <th>4</th>\n",
              "      <td>Flagship Newest Play Station 4 1TB HDD Only on...</td>\n",
              "      <td></td>\n",
              "      <td>4.5 out of 5 stars</td>\n",
              "      <td>204 ratings</td>\n",
              "      <td>Not Available</td>\n",
              "    </tr>\n",
              "    <tr>\n",
              "      <th>5</th>\n",
              "      <td>PlayStation 4 500GB Console [Old Model][Discon...</td>\n",
              "      <td></td>\n",
              "      <td>4.6 out of 5 stars</td>\n",
              "      <td>13,579 ratings</td>\n",
              "      <td>Only 1 left in stock - order soon.</td>\n",
              "    </tr>\n",
              "    <tr>\n",
              "      <th>6</th>\n",
              "      <td>Sony PlayStation 4 Pro 1TB Console - Black (PS...</td>\n",
              "      <td></td>\n",
              "      <td>4.5 out of 5 stars</td>\n",
              "      <td>4,051 ratings</td>\n",
              "      <td>Only 1 left in stock - order soon.</td>\n",
              "    </tr>\n",
              "    <tr>\n",
              "      <th>7</th>\n",
              "      <td>Playstation Sony 4, 500GB Slim System [CUH-221...</td>\n",
              "      <td></td>\n",
              "      <td>4.5 out of 5 stars</td>\n",
              "      <td>343 ratings</td>\n",
              "      <td>Only 1 left in stock - order soon.</td>\n",
              "    </tr>\n",
              "    <tr>\n",
              "      <th>8</th>\n",
              "      <td>PlayStation®5 Digital Edition (slim)</td>\n",
              "      <td></td>\n",
              "      <td>4.7 out of 5 stars</td>\n",
              "      <td>5,027 ratings</td>\n",
              "      <td>Only 8 left in stock - order soon.</td>\n",
              "    </tr>\n",
              "    <tr>\n",
              "      <th>9</th>\n",
              "      <td>PlayStation 4 Slim 500GB Console [Discontinued]</td>\n",
              "      <td></td>\n",
              "      <td>4.5 out of 5 stars</td>\n",
              "      <td>1,893 ratings</td>\n",
              "      <td>In Stock</td>\n",
              "    </tr>\n",
              "    <tr>\n",
              "      <th>10</th>\n",
              "      <td>PlayStation 4 Console 500 GB (Renewed)</td>\n",
              "      <td></td>\n",
              "      <td>5.0 out of 5 stars</td>\n",
              "      <td>3 ratings</td>\n",
              "      <td>Not Available</td>\n",
              "    </tr>\n",
              "    <tr>\n",
              "      <th>11</th>\n",
              "      <td>PlayStation 4 Slim 1TB Console - Marvel's Spid...</td>\n",
              "      <td></td>\n",
              "      <td>4.7 out of 5 stars</td>\n",
              "      <td>2,818 ratings</td>\n",
              "      <td>Only 1 left in stock - order soon.</td>\n",
              "    </tr>\n",
              "    <tr>\n",
              "      <th>12</th>\n",
              "      <td>Sony PlayStation 4 500GB Console - Uncharted 4...</td>\n",
              "      <td></td>\n",
              "      <td>5.0 out of 5 stars</td>\n",
              "      <td>1 rating</td>\n",
              "      <td>Only 1 left in stock - order soon.</td>\n",
              "    </tr>\n",
              "    <tr>\n",
              "      <th>13</th>\n",
              "      <td>PlayStation 4 Pro 1TB Limited Edition Console ...</td>\n",
              "      <td></td>\n",
              "      <td>4.5 out of 5 stars</td>\n",
              "      <td>684 ratings</td>\n",
              "      <td>Only 1 left in stock - order soon.</td>\n",
              "    </tr>\n",
              "    <tr>\n",
              "      <th>14</th>\n",
              "      <td>MOVONE Wireless Controller Dual Vibration Game...</td>\n",
              "      <td></td>\n",
              "      <td>4.1 out of 5 stars</td>\n",
              "      <td>1,632 ratings</td>\n",
              "      <td>In Stock</td>\n",
              "    </tr>\n",
              "    <tr>\n",
              "      <th>15</th>\n",
              "      <td>Sony PlayStation 4 500GB Console - Black</td>\n",
              "      <td></td>\n",
              "      <td>4.5 out of 5 stars</td>\n",
              "      <td>3,199 ratings</td>\n",
              "      <td>Only 6 left in stock - order soon.</td>\n",
              "    </tr>\n",
              "    <tr>\n",
              "      <th>16</th>\n",
              "      <td>Charger Dock Station for PS4, 1.8 Hrs Fast Cha...</td>\n",
              "      <td></td>\n",
              "      <td>4.6 out of 5 stars</td>\n",
              "      <td>14,445 ratings</td>\n",
              "      <td>In Stock</td>\n",
              "    </tr>\n",
              "    <tr>\n",
              "      <th>17</th>\n",
              "      <td>PlayStation 2 Slim Console PS2 (Renewed)</td>\n",
              "      <td></td>\n",
              "      <td>3.9 out of 5 stars</td>\n",
              "      <td>1,226 ratings</td>\n",
              "      <td></td>\n",
              "    </tr>\n",
              "  </tbody>\n",
              "</table>\n",
              "</div>\n",
              "    <div class=\"colab-df-buttons\">\n",
              "\n",
              "  <div class=\"colab-df-container\">\n",
              "    <button class=\"colab-df-convert\" onclick=\"convertToInteractive('df-bdb1ef0a-28d4-4500-947e-3df65ff86b60')\"\n",
              "            title=\"Convert this dataframe to an interactive table.\"\n",
              "            style=\"display:none;\">\n",
              "\n",
              "  <svg xmlns=\"http://www.w3.org/2000/svg\" height=\"24px\" viewBox=\"0 -960 960 960\">\n",
              "    <path d=\"M120-120v-720h720v720H120Zm60-500h600v-160H180v160Zm220 220h160v-160H400v160Zm0 220h160v-160H400v160ZM180-400h160v-160H180v160Zm440 0h160v-160H620v160ZM180-180h160v-160H180v160Zm440 0h160v-160H620v160Z\"/>\n",
              "  </svg>\n",
              "    </button>\n",
              "\n",
              "  <style>\n",
              "    .colab-df-container {\n",
              "      display:flex;\n",
              "      gap: 12px;\n",
              "    }\n",
              "\n",
              "    .colab-df-convert {\n",
              "      background-color: #E8F0FE;\n",
              "      border: none;\n",
              "      border-radius: 50%;\n",
              "      cursor: pointer;\n",
              "      display: none;\n",
              "      fill: #1967D2;\n",
              "      height: 32px;\n",
              "      padding: 0 0 0 0;\n",
              "      width: 32px;\n",
              "    }\n",
              "\n",
              "    .colab-df-convert:hover {\n",
              "      background-color: #E2EBFA;\n",
              "      box-shadow: 0px 1px 2px rgba(60, 64, 67, 0.3), 0px 1px 3px 1px rgba(60, 64, 67, 0.15);\n",
              "      fill: #174EA6;\n",
              "    }\n",
              "\n",
              "    .colab-df-buttons div {\n",
              "      margin-bottom: 4px;\n",
              "    }\n",
              "\n",
              "    [theme=dark] .colab-df-convert {\n",
              "      background-color: #3B4455;\n",
              "      fill: #D2E3FC;\n",
              "    }\n",
              "\n",
              "    [theme=dark] .colab-df-convert:hover {\n",
              "      background-color: #434B5C;\n",
              "      box-shadow: 0px 1px 3px 1px rgba(0, 0, 0, 0.15);\n",
              "      filter: drop-shadow(0px 1px 2px rgba(0, 0, 0, 0.3));\n",
              "      fill: #FFFFFF;\n",
              "    }\n",
              "  </style>\n",
              "\n",
              "    <script>\n",
              "      const buttonEl =\n",
              "        document.querySelector('#df-bdb1ef0a-28d4-4500-947e-3df65ff86b60 button.colab-df-convert');\n",
              "      buttonEl.style.display =\n",
              "        google.colab.kernel.accessAllowed ? 'block' : 'none';\n",
              "\n",
              "      async function convertToInteractive(key) {\n",
              "        const element = document.querySelector('#df-bdb1ef0a-28d4-4500-947e-3df65ff86b60');\n",
              "        const dataTable =\n",
              "          await google.colab.kernel.invokeFunction('convertToInteractive',\n",
              "                                                    [key], {});\n",
              "        if (!dataTable) return;\n",
              "\n",
              "        const docLinkHtml = 'Like what you see? Visit the ' +\n",
              "          '<a target=\"_blank\" href=https://colab.research.google.com/notebooks/data_table.ipynb>data table notebook</a>'\n",
              "          + ' to learn more about interactive tables.';\n",
              "        element.innerHTML = '';\n",
              "        dataTable['output_type'] = 'display_data';\n",
              "        await google.colab.output.renderOutput(dataTable, element);\n",
              "        const docLink = document.createElement('div');\n",
              "        docLink.innerHTML = docLinkHtml;\n",
              "        element.appendChild(docLink);\n",
              "      }\n",
              "    </script>\n",
              "  </div>\n",
              "\n",
              "\n",
              "<div id=\"df-fbbc86cc-6fd4-4fb9-8d70-9e1cbad17e90\">\n",
              "  <button class=\"colab-df-quickchart\" onclick=\"quickchart('df-fbbc86cc-6fd4-4fb9-8d70-9e1cbad17e90')\"\n",
              "            title=\"Suggest charts\"\n",
              "            style=\"display:none;\">\n",
              "\n",
              "<svg xmlns=\"http://www.w3.org/2000/svg\" height=\"24px\"viewBox=\"0 0 24 24\"\n",
              "     width=\"24px\">\n",
              "    <g>\n",
              "        <path d=\"M19 3H5c-1.1 0-2 .9-2 2v14c0 1.1.9 2 2 2h14c1.1 0 2-.9 2-2V5c0-1.1-.9-2-2-2zM9 17H7v-7h2v7zm4 0h-2V7h2v10zm4 0h-2v-4h2v4z\"/>\n",
              "    </g>\n",
              "</svg>\n",
              "  </button>\n",
              "\n",
              "<style>\n",
              "  .colab-df-quickchart {\n",
              "      --bg-color: #E8F0FE;\n",
              "      --fill-color: #1967D2;\n",
              "      --hover-bg-color: #E2EBFA;\n",
              "      --hover-fill-color: #174EA6;\n",
              "      --disabled-fill-color: #AAA;\n",
              "      --disabled-bg-color: #DDD;\n",
              "  }\n",
              "\n",
              "  [theme=dark] .colab-df-quickchart {\n",
              "      --bg-color: #3B4455;\n",
              "      --fill-color: #D2E3FC;\n",
              "      --hover-bg-color: #434B5C;\n",
              "      --hover-fill-color: #FFFFFF;\n",
              "      --disabled-bg-color: #3B4455;\n",
              "      --disabled-fill-color: #666;\n",
              "  }\n",
              "\n",
              "  .colab-df-quickchart {\n",
              "    background-color: var(--bg-color);\n",
              "    border: none;\n",
              "    border-radius: 50%;\n",
              "    cursor: pointer;\n",
              "    display: none;\n",
              "    fill: var(--fill-color);\n",
              "    height: 32px;\n",
              "    padding: 0;\n",
              "    width: 32px;\n",
              "  }\n",
              "\n",
              "  .colab-df-quickchart:hover {\n",
              "    background-color: var(--hover-bg-color);\n",
              "    box-shadow: 0 1px 2px rgba(60, 64, 67, 0.3), 0 1px 3px 1px rgba(60, 64, 67, 0.15);\n",
              "    fill: var(--button-hover-fill-color);\n",
              "  }\n",
              "\n",
              "  .colab-df-quickchart-complete:disabled,\n",
              "  .colab-df-quickchart-complete:disabled:hover {\n",
              "    background-color: var(--disabled-bg-color);\n",
              "    fill: var(--disabled-fill-color);\n",
              "    box-shadow: none;\n",
              "  }\n",
              "\n",
              "  .colab-df-spinner {\n",
              "    border: 2px solid var(--fill-color);\n",
              "    border-color: transparent;\n",
              "    border-bottom-color: var(--fill-color);\n",
              "    animation:\n",
              "      spin 1s steps(1) infinite;\n",
              "  }\n",
              "\n",
              "  @keyframes spin {\n",
              "    0% {\n",
              "      border-color: transparent;\n",
              "      border-bottom-color: var(--fill-color);\n",
              "      border-left-color: var(--fill-color);\n",
              "    }\n",
              "    20% {\n",
              "      border-color: transparent;\n",
              "      border-left-color: var(--fill-color);\n",
              "      border-top-color: var(--fill-color);\n",
              "    }\n",
              "    30% {\n",
              "      border-color: transparent;\n",
              "      border-left-color: var(--fill-color);\n",
              "      border-top-color: var(--fill-color);\n",
              "      border-right-color: var(--fill-color);\n",
              "    }\n",
              "    40% {\n",
              "      border-color: transparent;\n",
              "      border-right-color: var(--fill-color);\n",
              "      border-top-color: var(--fill-color);\n",
              "    }\n",
              "    60% {\n",
              "      border-color: transparent;\n",
              "      border-right-color: var(--fill-color);\n",
              "    }\n",
              "    80% {\n",
              "      border-color: transparent;\n",
              "      border-right-color: var(--fill-color);\n",
              "      border-bottom-color: var(--fill-color);\n",
              "    }\n",
              "    90% {\n",
              "      border-color: transparent;\n",
              "      border-bottom-color: var(--fill-color);\n",
              "    }\n",
              "  }\n",
              "</style>\n",
              "\n",
              "  <script>\n",
              "    async function quickchart(key) {\n",
              "      const quickchartButtonEl =\n",
              "        document.querySelector('#' + key + ' button');\n",
              "      quickchartButtonEl.disabled = true;  // To prevent multiple clicks.\n",
              "      quickchartButtonEl.classList.add('colab-df-spinner');\n",
              "      try {\n",
              "        const charts = await google.colab.kernel.invokeFunction(\n",
              "            'suggestCharts', [key], {});\n",
              "      } catch (error) {\n",
              "        console.error('Error during call to suggestCharts:', error);\n",
              "      }\n",
              "      quickchartButtonEl.classList.remove('colab-df-spinner');\n",
              "      quickchartButtonEl.classList.add('colab-df-quickchart-complete');\n",
              "    }\n",
              "    (() => {\n",
              "      let quickchartButtonEl =\n",
              "        document.querySelector('#df-fbbc86cc-6fd4-4fb9-8d70-9e1cbad17e90 button');\n",
              "      quickchartButtonEl.style.display =\n",
              "        google.colab.kernel.accessAllowed ? 'block' : 'none';\n",
              "    })();\n",
              "  </script>\n",
              "</div>\n",
              "\n",
              "  <div id=\"id_4c87c490-7577-4e64-9392-25f424d46677\">\n",
              "    <style>\n",
              "      .colab-df-generate {\n",
              "        background-color: #E8F0FE;\n",
              "        border: none;\n",
              "        border-radius: 50%;\n",
              "        cursor: pointer;\n",
              "        display: none;\n",
              "        fill: #1967D2;\n",
              "        height: 32px;\n",
              "        padding: 0 0 0 0;\n",
              "        width: 32px;\n",
              "      }\n",
              "\n",
              "      .colab-df-generate:hover {\n",
              "        background-color: #E2EBFA;\n",
              "        box-shadow: 0px 1px 2px rgba(60, 64, 67, 0.3), 0px 1px 3px 1px rgba(60, 64, 67, 0.15);\n",
              "        fill: #174EA6;\n",
              "      }\n",
              "\n",
              "      [theme=dark] .colab-df-generate {\n",
              "        background-color: #3B4455;\n",
              "        fill: #D2E3FC;\n",
              "      }\n",
              "\n",
              "      [theme=dark] .colab-df-generate:hover {\n",
              "        background-color: #434B5C;\n",
              "        box-shadow: 0px 1px 3px 1px rgba(0, 0, 0, 0.15);\n",
              "        filter: drop-shadow(0px 1px 2px rgba(0, 0, 0, 0.3));\n",
              "        fill: #FFFFFF;\n",
              "      }\n",
              "    </style>\n",
              "    <button class=\"colab-df-generate\" onclick=\"generateWithVariable('amazon_df')\"\n",
              "            title=\"Generate code using this dataframe.\"\n",
              "            style=\"display:none;\">\n",
              "\n",
              "  <svg xmlns=\"http://www.w3.org/2000/svg\" height=\"24px\"viewBox=\"0 0 24 24\"\n",
              "       width=\"24px\">\n",
              "    <path d=\"M7,19H8.4L18.45,9,17,7.55,7,17.6ZM5,21V16.75L18.45,3.32a2,2,0,0,1,2.83,0l1.4,1.43a1.91,1.91,0,0,1,.58,1.4,1.91,1.91,0,0,1-.58,1.4L9.25,21ZM18.45,9,17,7.55Zm-12,3A5.31,5.31,0,0,0,4.9,8.1,5.31,5.31,0,0,0,1,6.5,5.31,5.31,0,0,0,4.9,4.9,5.31,5.31,0,0,0,6.5,1,5.31,5.31,0,0,0,8.1,4.9,5.31,5.31,0,0,0,12,6.5,5.46,5.46,0,0,0,6.5,12Z\"/>\n",
              "  </svg>\n",
              "    </button>\n",
              "    <script>\n",
              "      (() => {\n",
              "      const buttonEl =\n",
              "        document.querySelector('#id_4c87c490-7577-4e64-9392-25f424d46677 button.colab-df-generate');\n",
              "      buttonEl.style.display =\n",
              "        google.colab.kernel.accessAllowed ? 'block' : 'none';\n",
              "\n",
              "      buttonEl.onclick = () => {\n",
              "        google.colab.notebook.generateWithVariable('amazon_df');\n",
              "      }\n",
              "      })();\n",
              "    </script>\n",
              "  </div>\n",
              "\n",
              "    </div>\n",
              "  </div>\n"
            ],
            "application/vnd.google.colaboratory.intrinsic+json": {
              "type": "dataframe",
              "variable_name": "amazon_df",
              "repr_error": "0"
            }
          },
          "metadata": {},
          "execution_count": 66
        }
      ]
    }
  ]
}